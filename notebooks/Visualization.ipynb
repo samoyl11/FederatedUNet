{
 "cells": [
  {
   "cell_type": "code",
   "execution_count": 7,
   "metadata": {},
   "outputs": [],
   "source": [
    "from dpipe.medim.visualize import slice3d\n",
    "import nibabel as nib\n",
    "import numpy as np\n",
    "import os"
   ]
  },
  {
   "cell_type": "code",
   "execution_count": 2,
   "metadata": {},
   "outputs": [],
   "source": [
    "LABEL_PATH = '/nmnt/x3-hdd/data/DA/CC359/Silver-standard-MLScaled'\n",
    "DATA_PATH = '/nmnt/x3-hdd/data/DA/CC359/originalScaled'"
   ]
  },
  {
   "cell_type": "code",
   "execution_count": 17,
   "metadata": {},
   "outputs": [],
   "source": [
    "img = np.load(os.path.join(DATA_PATH, 'CC0028_philips_15_63_F.npy'))\n",
    "label = np.load(os.path.join(LABEL_PATH, 'CC0028_philips_15_63_F_ss.npy'))"
   ]
  },
  {
   "cell_type": "code",
   "execution_count": 18,
   "metadata": {},
   "outputs": [
    {
     "data": {
      "application/vnd.jupyter.widget-view+json": {
       "model_id": "4237127ca93145bfa861b24324e83240",
       "version_major": 2,
       "version_minor": 0
      },
      "text/plain": [
       "interactive(children=(IntSlider(value=0, continuous_update=False, description='idx', max=255), Output()), _dom…"
      ]
     },
     "metadata": {},
     "output_type": "display_data"
    }
   ],
   "source": [
    "slice3d(img, label)"
   ]
  },
  {
   "cell_type": "code",
   "execution_count": 6,
   "metadata": {},
   "outputs": [],
   "source": [
    "import dpipe"
   ]
  },
  {
   "cell_type": "code",
   "execution_count": 2,
   "metadata": {},
   "outputs": [],
   "source": [
    "del sys.path[4]"
   ]
  },
  {
   "cell_type": "code",
   "execution_count": 10,
   "metadata": {},
   "outputs": [],
   "source": [
    "from dpipe.dataset import CSV"
   ]
  },
  {
   "cell_type": "code",
   "execution_count": 7,
   "metadata": {},
   "outputs": [],
   "source": [
    "import skimage"
   ]
  },
  {
   "cell_type": "code",
   "execution_count": 8,
   "metadata": {},
   "outputs": [
    {
     "data": {
      "text/plain": [
       "'0.16.2'"
      ]
     },
     "execution_count": 8,
     "metadata": {},
     "output_type": "execute_result"
    }
   ],
   "source": [
    "skimage.__version__"
   ]
  },
  {
   "cell_type": "code",
   "execution_count": 1,
   "metadata": {},
   "outputs": [],
   "source": [
    "import os \n",
    "import pandas as pd\n",
    "import numpy as np\n",
    "image_path = '/nmnt/x3-hdd/data/DA/CC359/originalScaled'\n",
    "target_path = '/nmnt/x3-hdd/data/DA/CC359/Silver-standard-MLScaled'\n",
    "if len(os.listdir(image_path)) != len(os.listdir(target_path)):\n",
    "    raise AssertionError('File numbers in image and target paths are different')\n",
    "\n",
    "img_names = sorted(os.listdir(image_path))\n",
    "class_names = [img.split('_')[1] + '-' + img.split('_')[4][0] for img in img_names]\n",
    "\n",
    "target_names = sorted(os.listdir(target_path))\n",
    "meta = pd.DataFrame(columns=['id', 'img', 'target', 'class'])\n",
    "meta['img'], meta['target'], meta['class'] = img_names, target_names, class_names\n",
    "for img_class in np.unique(class_names):\n",
    "    partial_meta = meta[meta['class'] == img_class].copy()\n",
    "    partial_meta.reset_index(drop=True, inplace=True)\n",
    "    partial_meta['id'] = partial_meta.index\n"
   ]
  },
  {
   "cell_type": "code",
   "execution_count": 21,
   "metadata": {},
   "outputs": [
    {
     "data": {
      "text/plain": [
       "True"
      ]
     },
     "execution_count": 21,
     "metadata": {},
     "output_type": "execute_result"
    }
   ],
   "source": [
    "np.int == int"
   ]
  },
  {
   "cell_type": "code",
   "execution_count": null,
   "metadata": {},
   "outputs": [],
   "source": []
  }
 ],
 "metadata": {
  "kernelspec": {
   "display_name": "Python 3",
   "language": "python",
   "name": "python3"
  },
  "language_info": {
   "codemirror_mode": {
    "name": "ipython",
    "version": 3
   },
   "file_extension": ".py",
   "mimetype": "text/x-python",
   "name": "python",
   "nbconvert_exporter": "python",
   "pygments_lexer": "ipython3",
   "version": "3.7.3"
  }
 },
 "nbformat": 4,
 "nbformat_minor": 2
}
