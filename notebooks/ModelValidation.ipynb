{
 "cells": [
  {
   "cell_type": "code",
   "execution_count": 1,
   "metadata": {},
   "outputs": [],
   "source": [
    "import numpy as np\n",
    "from dpipe.medim.visualize import slice3d\n",
    "import torch\n",
    "import os\n",
    "import sys\n",
    "import cv2\n",
    "import copy\n",
    "from matplotlib import pyplot as plt\n",
    "sys.path.append('/nmnt/media/home/alex_samoylenko/Federated/FederatedUNet')\n",
    "\n",
    "from FederatedUNet.model.model import UNet"
   ]
  },
  {
   "cell_type": "code",
   "execution_count": 2,
   "metadata": {},
   "outputs": [],
   "source": [
    "model = UNet(n_channels=1, n_classes=1).float()"
   ]
  },
  {
   "cell_type": "code",
   "execution_count": 3,
   "metadata": {},
   "outputs": [
    {
     "data": {
      "text/plain": [
       "IncompatibleKeys(missing_keys=[], unexpected_keys=[])"
      ]
     },
     "execution_count": 3,
     "metadata": {},
     "output_type": "execute_result"
    }
   ],
   "source": [
    "WEIGHTS_PATH = '/nmnt/media/home/alex_samoylenko/experiments/Federated/no_federated/model.pth'\n",
    "weights = torch.load(WEIGHTS_PATH)\n",
    "model.load_state_dict(weights)"
   ]
  },
  {
   "cell_type": "code",
   "execution_count": 15,
   "metadata": {},
   "outputs": [],
   "source": [
    "EXP_NAME = 'no_federated'\n",
    "TARGET_PATH = '/nmnt/x3-hdd/data/DA/CC359/Silver-standard-MLScaled'\n",
    "\n",
    "VALID_PRED_PATH = f'/nmnt/x3-hdd/data/Federated/{EXP_NAME}/valid'\n",
    "TEST_PRED_PATH = f'/nmnt/x3-hdd/data/Federated/{EXP_NAME}/test'\n",
    "VALID_IMG_NAMES = [img_name[:-4] for img_name in os.listdir(VALID_PRED_PATH)]\n",
    "TEST_IMG_NAMES = [img_name[:-4] for img_name in os.listdir(TEST_PRED_PATH)]\n",
    "\n",
    "targets, preds = dict(), dict()\n",
    "\n",
    "for img_name in VALID_IMG_NAMES:\n",
    "    target = np.load(os.path.join(TARGET_PATH, img_name + '_ss.npy'))\n",
    "    target = cv2.resize(target, (256, 170))\n",
    "    targets[img_name] = target\n",
    "    \n",
    "    pred = np.load(os.path.join(VALID_PRED_PATH, img_name + '.npy'))\n",
    "    pred = torch.sigmoid(torch.tensor(pred))\n",
    "    preds[img_name] = pred.numpy()"
   ]
  },
  {
   "cell_type": "code",
   "execution_count": 5,
   "metadata": {},
   "outputs": [],
   "source": [
    "def dice_score_slice(pred_slice, target_slice, threshold):\n",
    "    diff = abs(pred_slice - target_slice)\n",
    "    return diff[diff == 0].shape[0] / (pred_slice.shape[0] * pred_slice.shape[1])\n",
    "\n",
    "def dice_score(pred, target, threshold=0.5):\n",
    "    pred, target = copy.deepcopy(pred), copy.deepcopy(target)\n",
    "    pred, target = np.moveaxis(pred, -1, 0), np.moveaxis(target, -1, 0)\n",
    "    pred[pred <= threshold] = 0\n",
    "    pred[pred > threshold] = 1\n",
    "    return [dice_score_slice(pred_slice, target_slice, threshold) for pred_slice, target_slice in zip(pred, target)]"
   ]
  },
  {
   "cell_type": "code",
   "execution_count": 6,
   "metadata": {},
   "outputs": [
    {
     "name": "stdout",
     "output_type": "stream",
     "text": [
      "THRESHOLD: 0.05, MEAN_DICE: 0.98740112901572\n",
      "THRESHOLD: 0.3, MEAN_DICE: 0.992320739015047\n",
      "THRESHOLD: 0.35, MEAN_DICE: 0.9926142829019886\n",
      "THRESHOLD: 0.4, MEAN_DICE: 0.9928397616161893\n",
      "THRESHOLD: 0.45, MEAN_DICE: 0.9930134392042578\n",
      "THRESHOLD: 0.5, MEAN_DICE: 0.993140172099998\n",
      "THRESHOLD: 0.55, MEAN_DICE: 0.9932250270157905\n",
      "THRESHOLD: 0.6, MEAN_DICE: 0.9932658510995367\n",
      "THRESHOLD: 0.65, MEAN_DICE: 0.9932597880672315\n",
      "THRESHOLD: 0.7, MEAN_DICE: 0.9931984017426285\n"
     ]
    }
   ],
   "source": [
    "for threshold in [0.05, 0.3, 0.35, 0.4, 0.45, 0.5, 0.55, 0.6, 0.65, 0.7]:\n",
    "    dices = []\n",
    "    for img_name in VALID_IMG_NAMES:\n",
    "        pred, target = preds[img_name], targets[img_name]\n",
    "        dices.extend(dice_score(pred, target, threshold=threshold))\n",
    "    print(f\"THRESHOLD: {threshold}, MEAN_DICE: {np.mean(dices)}\") # best is 0.6"
   ]
  },
  {
   "cell_type": "markdown",
   "metadata": {},
   "source": [
    "# Separate classes"
   ]
  },
  {
   "cell_type": "code",
   "execution_count": 7,
   "metadata": {},
   "outputs": [],
   "source": [
    "from collections import defaultdict"
   ]
  },
  {
   "cell_type": "code",
   "execution_count": 8,
   "metadata": {},
   "outputs": [],
   "source": [
    "class_to_img_name = defaultdict(list)\n",
    "for img_name in VALID_IMG_NAMES:\n",
    "    class_name = img_name.split('_')[1] + '-' + img_name.split('_')[4][0]\n",
    "    class_to_img_name[class_name].append(img_name)"
   ]
  },
  {
   "cell_type": "code",
   "execution_count": 9,
   "metadata": {},
   "outputs": [],
   "source": [
    "class_to_dice = {}\n",
    "for _class in class_to_img_name:\n",
    "    class_img_names = class_to_img_name[_class]\n",
    "    dices = []\n",
    "    for img_name in class_img_names:\n",
    "        pred, target = preds[img_name], targets[img_name]\n",
    "        dices.extend(dice_score(pred, target, threshold=0.6))\n",
    "    class_to_dice[_class] = np.mean(dices)"
   ]
  },
  {
   "cell_type": "code",
   "execution_count": 10,
   "metadata": {},
   "outputs": [
    {
     "data": {
      "text/plain": [
       "{'siemens-F': 0.99598435345818,\n",
       " 'ge-M': 0.9921803193933824,\n",
       " 'philips-F': 0.9914452278056657,\n",
       " 'philips-M': 0.9910250209602188,\n",
       " 'siemens-M': 0.9951132680855546,\n",
       " 'ge-F': 0.9937355340695849}"
      ]
     },
     "execution_count": 10,
     "metadata": {},
     "output_type": "execute_result"
    }
   ],
   "source": [
    "class_to_dice"
   ]
  },
  {
   "cell_type": "markdown",
   "metadata": {},
   "source": [
    "# Test score"
   ]
  },
  {
   "cell_type": "code",
   "execution_count": 23,
   "metadata": {},
   "outputs": [],
   "source": [
    "for img_name in TEST_IMG_NAMES:\n",
    "    target = np.load(os.path.join(TARGET_PATH, img_name + '_ss.npy'))\n",
    "    target = cv2.resize(target, (256, 170))\n",
    "    targets[img_name] = target\n",
    "    \n",
    "    pred = np.load(os.path.join(TEST_PRED_PATH, img_name + '.npy'))\n",
    "    pred = torch.sigmoid(torch.tensor(pred))\n",
    "    preds[img_name] = pred.numpy()"
   ]
  },
  {
   "cell_type": "code",
   "execution_count": 24,
   "metadata": {},
   "outputs": [],
   "source": [
    "class_to_img_name_test = defaultdict(list)\n",
    "for img_name in TEST_IMG_NAMES:\n",
    "    class_name = img_name.split('_')[1] + '-' + img_name.split('_')[4][0]\n",
    "    class_to_img_name_test[class_name].append(img_name)"
   ]
  },
  {
   "cell_type": "code",
   "execution_count": 27,
   "metadata": {},
   "outputs": [],
   "source": [
    "class_to_dice_test = {}\n",
    "for _class in class_to_img_name_test:\n",
    "    class_img_names = class_to_img_name_test[_class]\n",
    "    dices = []\n",
    "    for img_name in class_img_names:\n",
    "        pred, target = preds[img_name], targets[img_name]\n",
    "        dices.extend(dice_score(pred, target, threshold=0.6))\n",
    "    class_to_dice_test[_class] = np.mean(dices)"
   ]
  },
  {
   "cell_type": "code",
   "execution_count": 28,
   "metadata": {},
   "outputs": [
    {
     "data": {
      "text/plain": [
       "{'ge-M': 0.9922594599363183,\n",
       " 'siemens-F': 0.9955436856138941,\n",
       " 'philips-F': 0.9919339302956031,\n",
       " 'philips-M': 0.9854507754090844,\n",
       " 'siemens-M': 0.994167472490298,\n",
       " 'ge-F': 0.9926221286549288}"
      ]
     },
     "execution_count": 28,
     "metadata": {},
     "output_type": "execute_result"
    }
   ],
   "source": [
    "class_to_dice_test"
   ]
  }
 ],
 "metadata": {
  "kernelspec": {
   "display_name": "Python 3",
   "language": "python",
   "name": "python3"
  },
  "language_info": {
   "codemirror_mode": {
    "name": "ipython",
    "version": 3
   },
   "file_extension": ".py",
   "mimetype": "text/x-python",
   "name": "python",
   "nbconvert_exporter": "python",
   "pygments_lexer": "ipython3",
   "version": "3.7.3"
  }
 },
 "nbformat": 4,
 "nbformat_minor": 2
}
